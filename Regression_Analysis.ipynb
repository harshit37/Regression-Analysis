{
  "nbformat": 4,
  "nbformat_minor": 0,
  "metadata": {
    "colab": {
      "name": "Regression_Analysis.ipynb",
      "provenance": []
    },
    "kernelspec": {
      "name": "python3",
      "display_name": "Python 3"
    }
  },
  "cells": [
    {
      "cell_type": "markdown",
      "metadata": {
        "id": "GZ1TjmXyzL1_",
        "colab_type": "text"
      },
      "source": [
        "**Regression Analysis**\n",
        "\n",
        "Abstract:-\n",
        "This Assigment contains code as well as report for the different variants of linear regression (OLS,RIDGE,LASSO) on the BOSTON HOUSING PRICE DATASET.\n",
        "Further it also includes various inferences corresponding to the tasks performed in the assingment.\n"
      ]
    },
    {
      "cell_type": "markdown",
      "metadata": {
        "id": "3ugaxJho0qi0",
        "colab_type": "text"
      },
      "source": [
        "Imported various libraries for loading and managing data"
      ]
    },
    {
      "cell_type": "code",
      "metadata": {
        "id": "qZo5Ad_aZa6E",
        "colab_type": "code",
        "colab": {}
      },
      "source": [
        "from sklearn.datasets import load_boston\n",
        "import pandas as pd"
      ],
      "execution_count": 0,
      "outputs": []
    },
    {
      "cell_type": "code",
      "metadata": {
        "id": "QUCpnEcCZmU7",
        "colab_type": "code",
        "colab": {}
      },
      "source": [
        "house_price = load_boston()\n",
        "df = pd.DataFrame(house_price.data,\n",
        "columns=house_price.feature_names)\n",
        "df['PRICE'] = house_price.target"
      ],
      "execution_count": 0,
      "outputs": []
    },
    {
      "cell_type": "markdown",
      "metadata": {
        "id": "Fv_CYdou0yv1",
        "colab_type": "text"
      },
      "source": [
        "The data is now successfully loaded into the dataframe.There are 506 samples and 13 features (predictor variables) corresponding to which we want to learn the weights so as to make predictions on the **target variable** which is **HOUSING PRICE**.\n",
        "As we have labels corresponding to the feature variables , linear regression is a supervised learning problem.\n",
        "\n",
        "**MORE INSIGHTS OF BOSTON HOUSING PRICE DATA**:-\n",
        "\n",
        "CRIM: Per capita crime rate by town\n",
        "\n",
        "ZN: Proportion of residential land zoned for lots over 25,000 sq. ft\n",
        "\n",
        "INDUS: Proportion of non-retail business acres per town\n",
        "\n",
        "CHAS: Charles River dummy variable (= 1 if tract bounds river; 0 otherwise)\n",
        "\n",
        "NOX: Nitric oxide concentration (parts per 10 million)\n",
        "\n",
        "RM: Average number of rooms per dwelling\n",
        "\n",
        "AGE: Proportion of owner-occupied units built prior to 1940\n",
        "\n",
        "DIS: Weighted distances to five Boston employment centers\n",
        "\n",
        "RAD: Index of accessibility to radial highways\n",
        "\n",
        "TAX: Full-value property tax rate per $10,000\n",
        "\n",
        "PTRATIO: Pupil-teacher ratio by town\n",
        "B: 1000(Bk — 0.63)², where Bk is the proportion of [people of African American descent] by town\n",
        "\n",
        "LSTAT: Percentage of lower status of the population\n",
        "\n",
        "MEDV: Median value of owner-occupied homes in $1000s\n"
      ]
    },
    {
      "cell_type": "code",
      "metadata": {
        "id": "VvoVxydoZ34A",
        "colab_type": "code",
        "outputId": "bbb7f216-4b9a-4dff-9e67-c42cba09c77b",
        "colab": {
          "base_uri": "https://localhost:8080/",
          "height": 424
        }
      },
      "source": [
        "df"
      ],
      "execution_count": 0,
      "outputs": [
        {
          "output_type": "execute_result",
          "data": {
            "text/html": [
              "<div>\n",
              "<style scoped>\n",
              "    .dataframe tbody tr th:only-of-type {\n",
              "        vertical-align: middle;\n",
              "    }\n",
              "\n",
              "    .dataframe tbody tr th {\n",
              "        vertical-align: top;\n",
              "    }\n",
              "\n",
              "    .dataframe thead th {\n",
              "        text-align: right;\n",
              "    }\n",
              "</style>\n",
              "<table border=\"1\" class=\"dataframe\">\n",
              "  <thead>\n",
              "    <tr style=\"text-align: right;\">\n",
              "      <th></th>\n",
              "      <th>CRIM</th>\n",
              "      <th>ZN</th>\n",
              "      <th>INDUS</th>\n",
              "      <th>CHAS</th>\n",
              "      <th>NOX</th>\n",
              "      <th>RM</th>\n",
              "      <th>AGE</th>\n",
              "      <th>DIS</th>\n",
              "      <th>RAD</th>\n",
              "      <th>TAX</th>\n",
              "      <th>PTRATIO</th>\n",
              "      <th>B</th>\n",
              "      <th>LSTAT</th>\n",
              "      <th>PRICE</th>\n",
              "    </tr>\n",
              "  </thead>\n",
              "  <tbody>\n",
              "    <tr>\n",
              "      <th>0</th>\n",
              "      <td>0.00632</td>\n",
              "      <td>18.0</td>\n",
              "      <td>2.31</td>\n",
              "      <td>0.0</td>\n",
              "      <td>0.538</td>\n",
              "      <td>6.575</td>\n",
              "      <td>65.2</td>\n",
              "      <td>4.0900</td>\n",
              "      <td>1.0</td>\n",
              "      <td>296.0</td>\n",
              "      <td>15.3</td>\n",
              "      <td>396.90</td>\n",
              "      <td>4.98</td>\n",
              "      <td>24.0</td>\n",
              "    </tr>\n",
              "    <tr>\n",
              "      <th>1</th>\n",
              "      <td>0.02731</td>\n",
              "      <td>0.0</td>\n",
              "      <td>7.07</td>\n",
              "      <td>0.0</td>\n",
              "      <td>0.469</td>\n",
              "      <td>6.421</td>\n",
              "      <td>78.9</td>\n",
              "      <td>4.9671</td>\n",
              "      <td>2.0</td>\n",
              "      <td>242.0</td>\n",
              "      <td>17.8</td>\n",
              "      <td>396.90</td>\n",
              "      <td>9.14</td>\n",
              "      <td>21.6</td>\n",
              "    </tr>\n",
              "    <tr>\n",
              "      <th>2</th>\n",
              "      <td>0.02729</td>\n",
              "      <td>0.0</td>\n",
              "      <td>7.07</td>\n",
              "      <td>0.0</td>\n",
              "      <td>0.469</td>\n",
              "      <td>7.185</td>\n",
              "      <td>61.1</td>\n",
              "      <td>4.9671</td>\n",
              "      <td>2.0</td>\n",
              "      <td>242.0</td>\n",
              "      <td>17.8</td>\n",
              "      <td>392.83</td>\n",
              "      <td>4.03</td>\n",
              "      <td>34.7</td>\n",
              "    </tr>\n",
              "    <tr>\n",
              "      <th>3</th>\n",
              "      <td>0.03237</td>\n",
              "      <td>0.0</td>\n",
              "      <td>2.18</td>\n",
              "      <td>0.0</td>\n",
              "      <td>0.458</td>\n",
              "      <td>6.998</td>\n",
              "      <td>45.8</td>\n",
              "      <td>6.0622</td>\n",
              "      <td>3.0</td>\n",
              "      <td>222.0</td>\n",
              "      <td>18.7</td>\n",
              "      <td>394.63</td>\n",
              "      <td>2.94</td>\n",
              "      <td>33.4</td>\n",
              "    </tr>\n",
              "    <tr>\n",
              "      <th>4</th>\n",
              "      <td>0.06905</td>\n",
              "      <td>0.0</td>\n",
              "      <td>2.18</td>\n",
              "      <td>0.0</td>\n",
              "      <td>0.458</td>\n",
              "      <td>7.147</td>\n",
              "      <td>54.2</td>\n",
              "      <td>6.0622</td>\n",
              "      <td>3.0</td>\n",
              "      <td>222.0</td>\n",
              "      <td>18.7</td>\n",
              "      <td>396.90</td>\n",
              "      <td>5.33</td>\n",
              "      <td>36.2</td>\n",
              "    </tr>\n",
              "    <tr>\n",
              "      <th>...</th>\n",
              "      <td>...</td>\n",
              "      <td>...</td>\n",
              "      <td>...</td>\n",
              "      <td>...</td>\n",
              "      <td>...</td>\n",
              "      <td>...</td>\n",
              "      <td>...</td>\n",
              "      <td>...</td>\n",
              "      <td>...</td>\n",
              "      <td>...</td>\n",
              "      <td>...</td>\n",
              "      <td>...</td>\n",
              "      <td>...</td>\n",
              "      <td>...</td>\n",
              "    </tr>\n",
              "    <tr>\n",
              "      <th>501</th>\n",
              "      <td>0.06263</td>\n",
              "      <td>0.0</td>\n",
              "      <td>11.93</td>\n",
              "      <td>0.0</td>\n",
              "      <td>0.573</td>\n",
              "      <td>6.593</td>\n",
              "      <td>69.1</td>\n",
              "      <td>2.4786</td>\n",
              "      <td>1.0</td>\n",
              "      <td>273.0</td>\n",
              "      <td>21.0</td>\n",
              "      <td>391.99</td>\n",
              "      <td>9.67</td>\n",
              "      <td>22.4</td>\n",
              "    </tr>\n",
              "    <tr>\n",
              "      <th>502</th>\n",
              "      <td>0.04527</td>\n",
              "      <td>0.0</td>\n",
              "      <td>11.93</td>\n",
              "      <td>0.0</td>\n",
              "      <td>0.573</td>\n",
              "      <td>6.120</td>\n",
              "      <td>76.7</td>\n",
              "      <td>2.2875</td>\n",
              "      <td>1.0</td>\n",
              "      <td>273.0</td>\n",
              "      <td>21.0</td>\n",
              "      <td>396.90</td>\n",
              "      <td>9.08</td>\n",
              "      <td>20.6</td>\n",
              "    </tr>\n",
              "    <tr>\n",
              "      <th>503</th>\n",
              "      <td>0.06076</td>\n",
              "      <td>0.0</td>\n",
              "      <td>11.93</td>\n",
              "      <td>0.0</td>\n",
              "      <td>0.573</td>\n",
              "      <td>6.976</td>\n",
              "      <td>91.0</td>\n",
              "      <td>2.1675</td>\n",
              "      <td>1.0</td>\n",
              "      <td>273.0</td>\n",
              "      <td>21.0</td>\n",
              "      <td>396.90</td>\n",
              "      <td>5.64</td>\n",
              "      <td>23.9</td>\n",
              "    </tr>\n",
              "    <tr>\n",
              "      <th>504</th>\n",
              "      <td>0.10959</td>\n",
              "      <td>0.0</td>\n",
              "      <td>11.93</td>\n",
              "      <td>0.0</td>\n",
              "      <td>0.573</td>\n",
              "      <td>6.794</td>\n",
              "      <td>89.3</td>\n",
              "      <td>2.3889</td>\n",
              "      <td>1.0</td>\n",
              "      <td>273.0</td>\n",
              "      <td>21.0</td>\n",
              "      <td>393.45</td>\n",
              "      <td>6.48</td>\n",
              "      <td>22.0</td>\n",
              "    </tr>\n",
              "    <tr>\n",
              "      <th>505</th>\n",
              "      <td>0.04741</td>\n",
              "      <td>0.0</td>\n",
              "      <td>11.93</td>\n",
              "      <td>0.0</td>\n",
              "      <td>0.573</td>\n",
              "      <td>6.030</td>\n",
              "      <td>80.8</td>\n",
              "      <td>2.5050</td>\n",
              "      <td>1.0</td>\n",
              "      <td>273.0</td>\n",
              "      <td>21.0</td>\n",
              "      <td>396.90</td>\n",
              "      <td>7.88</td>\n",
              "      <td>11.9</td>\n",
              "    </tr>\n",
              "  </tbody>\n",
              "</table>\n",
              "<p>506 rows × 14 columns</p>\n",
              "</div>"
            ],
            "text/plain": [
              "        CRIM    ZN  INDUS  CHAS    NOX  ...    TAX  PTRATIO       B  LSTAT  PRICE\n",
              "0    0.00632  18.0   2.31   0.0  0.538  ...  296.0     15.3  396.90   4.98   24.0\n",
              "1    0.02731   0.0   7.07   0.0  0.469  ...  242.0     17.8  396.90   9.14   21.6\n",
              "2    0.02729   0.0   7.07   0.0  0.469  ...  242.0     17.8  392.83   4.03   34.7\n",
              "3    0.03237   0.0   2.18   0.0  0.458  ...  222.0     18.7  394.63   2.94   33.4\n",
              "4    0.06905   0.0   2.18   0.0  0.458  ...  222.0     18.7  396.90   5.33   36.2\n",
              "..       ...   ...    ...   ...    ...  ...    ...      ...     ...    ...    ...\n",
              "501  0.06263   0.0  11.93   0.0  0.573  ...  273.0     21.0  391.99   9.67   22.4\n",
              "502  0.04527   0.0  11.93   0.0  0.573  ...  273.0     21.0  396.90   9.08   20.6\n",
              "503  0.06076   0.0  11.93   0.0  0.573  ...  273.0     21.0  396.90   5.64   23.9\n",
              "504  0.10959   0.0  11.93   0.0  0.573  ...  273.0     21.0  393.45   6.48   22.0\n",
              "505  0.04741   0.0  11.93   0.0  0.573  ...  273.0     21.0  396.90   7.88   11.9\n",
              "\n",
              "[506 rows x 14 columns]"
            ]
          },
          "metadata": {
            "tags": []
          },
          "execution_count": 13
        }
      ]
    },
    {
      "cell_type": "markdown",
      "metadata": {
        "id": "hDC_qj4k3NTh",
        "colab_type": "text"
      },
      "source": [
        "70:30 random split is made for training and test sets "
      ]
    },
    {
      "cell_type": "code",
      "metadata": {
        "id": "LMPA7TDYZ77E",
        "colab_type": "code",
        "colab": {}
      },
      "source": [
        "from sklearn.model_selection import train_test_split"
      ],
      "execution_count": 0,
      "outputs": []
    },
    {
      "cell_type": "code",
      "metadata": {
        "id": "Fop_HtHqbqui",
        "colab_type": "code",
        "colab": {}
      },
      "source": [
        "xtrain,xtest,ytrain,ytest=train_test_split(house_price.data,df['PRICE'],test_size=0.3,random_state=0)"
      ],
      "execution_count": 0,
      "outputs": []
    },
    {
      "cell_type": "code",
      "metadata": {
        "id": "o2zZP9cScr12",
        "colab_type": "code",
        "colab": {}
      },
      "source": [
        "from sklearn import linear_model\n",
        "ols=linear_model.LinearRegression(normalize='True')"
      ],
      "execution_count": 0,
      "outputs": []
    },
    {
      "cell_type": "markdown",
      "metadata": {
        "id": "DW-vWmcZ3iR0",
        "colab_type": "text"
      },
      "source": [
        "Deriving a OLS Regressor on the training data\n",
        "\n",
        "**For performing ordinary least squares regression we can use one of the following approaches:**\n",
        "\n",
        "1:-Solving the model parameters analytically (closed-form equations)\n",
        "\n",
        "2:-Using an optimization algorithm (Gradient Descent, Stochastic Gradient Descent, Newton’s Method, Simplex Method, etc.)\n",
        "\n",
        "**INFERENCE**\n",
        "\n",
        "sklearn never asked for setting the learning rate and neither provided any information on any optimization algorithm that might have been used in OLS.\n",
        "**Thus I got to know that ols regressor is using closed  form solution rather than any optimization algorithm **.\n",
        "\n",
        "**Further Learning**\n",
        "\n",
        " As The closed-form solution should be preferred for “smaller” datasets we didnt used any optimization algorithm .\n",
        "\n",
        "\n"
      ]
    },
    {
      "cell_type": "code",
      "metadata": {
        "id": "kOLTTui_eD7n",
        "colab_type": "code",
        "outputId": "8dfe607e-98d4-4ce9-c1e9-3f88a3d65968",
        "colab": {
          "base_uri": "https://localhost:8080/",
          "height": 35
        }
      },
      "source": [
        "ols.fit(xtrain,ytrain)"
      ],
      "execution_count": 0,
      "outputs": [
        {
          "output_type": "execute_result",
          "data": {
            "text/plain": [
              "LinearRegression(copy_X=True, fit_intercept=True, n_jobs=None, normalize='True')"
            ]
          },
          "metadata": {
            "tags": []
          },
          "execution_count": 17
        }
      ]
    },
    {
      "cell_type": "code",
      "metadata": {
        "id": "k181h27IeK9M",
        "colab_type": "code",
        "outputId": "82428ca3-41c7-4520-d430-3371c629b932",
        "colab": {
          "base_uri": "https://localhost:8080/",
          "height": 90
        }
      },
      "source": [
        "ols.coef_"
      ],
      "execution_count": 0,
      "outputs": [
        {
          "output_type": "execute_result",
          "data": {
            "text/plain": [
              "array([-1.21310401e-01,  4.44664254e-02,  1.13416945e-02,  2.51124642e+00,\n",
              "       -1.62312529e+01,  3.85906801e+00, -9.98516565e-03, -1.50026956e+00,\n",
              "        2.42143466e-01, -1.10716124e-02, -1.01775264e+00,  6.81446545e-03,\n",
              "       -4.86738066e-01])"
            ]
          },
          "metadata": {
            "tags": []
          },
          "execution_count": 18
        }
      ]
    },
    {
      "cell_type": "code",
      "metadata": {
        "id": "Sj7wOL5EAunL",
        "colab_type": "code",
        "outputId": "466b3d29-9232-4f50-8930-67af556a56e3",
        "colab": {
          "base_uri": "https://localhost:8080/",
          "height": 35
        }
      },
      "source": [
        "ols.intercept_"
      ],
      "execution_count": 0,
      "outputs": [
        {
          "output_type": "execute_result",
          "data": {
            "text/plain": [
              "37.937107741832484"
            ]
          },
          "metadata": {
            "tags": []
          },
          "execution_count": 49
        }
      ]
    },
    {
      "cell_type": "code",
      "metadata": {
        "id": "Q3TtsgcQeOxf",
        "colab_type": "code",
        "colab": {}
      },
      "source": [
        "from sklearn.metrics import mean_squared_error"
      ],
      "execution_count": 0,
      "outputs": []
    },
    {
      "cell_type": "markdown",
      "metadata": {
        "id": "W-qwSZen-LE0",
        "colab_type": "text"
      },
      "source": [
        "# **TASK 1** :- Plot the values of the regression coefficients for the different predictor variables using a bar graph."
      ]
    },
    {
      "cell_type": "code",
      "metadata": {
        "id": "ny46iHDIfiwf",
        "colab_type": "code",
        "outputId": "b0219662-b79f-4e96-c021-4ff7391d0e07",
        "colab": {
          "base_uri": "https://localhost:8080/",
          "height": 439
        }
      },
      "source": [
        "import matplotlib.pyplot as plt\n",
        "import numpy as np\n",
        "ind=np.arange(13)\n",
        "fig=plt.figure()\n",
        "ax = fig.add_axes([0,0,1,1])\n",
        "#ax.bar(ind,house_price.feature_names,ols.coef_)\n",
        "#ind\n",
        "onx=house_price.feature_names\n",
        "ony=ols.coef_\n",
        "ax.bar(onx,ony)\n",
        "plt.title(\" Regression Coeffecients of various Predictor variables \")\n",
        "plt.ylabel(\" Regression Coeffecients\")\n",
        "plt.xlabel(\"Features\")\n",
        "\n",
        "ony"
      ],
      "execution_count": 0,
      "outputs": [
        {
          "output_type": "execute_result",
          "data": {
            "text/plain": [
              "array([-1.21310401e-01,  4.44664254e-02,  1.13416945e-02,  2.51124642e+00,\n",
              "       -1.62312529e+01,  3.85906801e+00, -9.98516565e-03, -1.50026956e+00,\n",
              "        2.42143466e-01, -1.10716124e-02, -1.01775264e+00,  6.81446545e-03,\n",
              "       -4.86738066e-01])"
            ]
          },
          "metadata": {
            "tags": []
          },
          "execution_count": 41
        },
        {
          "output_type": "display_data",
          "data": {
            "image/png": "[encoded data removed]",
            "text/plain": [
              "<Figure size 432x288 with 1 Axes>"
            ]
          },
          "metadata": {
            "tags": []
          }
        }
      ]
    },
    {
      "cell_type": "markdown",
      "metadata": {
        "id": "Fz-oY3HL7CO3",
        "colab_type": "text"
      },
      "source": [
        "**INFERNCE**\n",
        "\n",
        " The feature NOX: Nitric oxide concentration (parts per 10 million) has the lagrest regression coeffecient or weight thus we can say that this is the most important feature for predicting our target variable i.e HOUSE PRICE.\n",
        " Also some of the weights are zero which implies that they are not required for predicting the value of target variable. Thus can be called as '**REDUNDANT VARIABLES**'.\n",
        "\n",
        " We can infer so only because we have **normalized our data** , if that was not the case then we could not have related **coeffecient of the feature with its importance**.\n",
        "\n"
      ]
    },
    {
      "cell_type": "markdown",
      "metadata": {
        "id": "WsyMpBT--nbW",
        "colab_type": "text"
      },
      "source": [
        "# **TASK -2** :-  Plot the regression coefficient (β ¿ estimates with ridge regression for predictors: room, residential zone, highway access, crime rate and tax as λ varies from 0-200."
      ]
    },
    {
      "cell_type": "code",
      "metadata": {
        "id": "TDB4rYfLiqKy",
        "colab_type": "code",
        "colab": {}
      },
      "source": [
        "#regression coeffecients for different values of alpha\n",
        "room=[]\n",
        "residential_zone=[]\n",
        "highway_access=[]\n",
        "crime_rate=[]\n",
        "tax=[]\n",
        "alpha=[]\n",
        "\n",
        "for i in range(200):                                       # iterating over values of alpha \n",
        "  alpha.append(i)\n",
        "  ridge=linear_model.Ridge(alpha=i,normalize='True')       #Derived the ridge Regressor\n",
        "  ridge.fit(xtrain,ytrain)\n",
        "  crime_rate.append(ridge.coef_[0])\n",
        "  room.append(ridge.coef_[5])\n",
        "  residential_zone.append(ridge.coef_[1])\n",
        "  highway_access.append(ridge.coef_[8])\n",
        "  tax.append(ridge.coef_[9])\n",
        "\n"
      ],
      "execution_count": 0,
      "outputs": []
    },
    {
      "cell_type": "code",
      "metadata": {
        "id": "IgTPZ99Anzny",
        "colab_type": "code",
        "outputId": "e3b0c79f-f679-4738-ae99-f1649e8aa166",
        "colab": {
          "base_uri": "https://localhost:8080/",
          "height": 297
        }
      },
      "source": [
        "plt.plot(alpha,crime_rate)\n",
        "plt.ylabel(\"coeffecients_of_crime rate\")\n",
        "plt.xlabel(\"alpha\")\n",
        "\n",
        "\n",
        "\n"
      ],
      "execution_count": 0,
      "outputs": [
        {
          "output_type": "execute_result",
          "data": {
            "text/plain": [
              "Text(0.5, 0, 'alpha')"
            ]
          },
          "metadata": {
            "tags": []
          },
          "execution_count": 44
        },
        {
          "output_type": "display_data",
          "data": {
            "image/png": "[encoded data removed]",
            "text/plain": [
              "<Figure size 432x288 with 1 Axes>"
            ]
          },
          "metadata": {
            "tags": []
          }
        }
      ]
    },
    {
      "cell_type": "code",
      "metadata": {
        "id": "yvHBqV_-_R8V",
        "colab_type": "code",
        "outputId": "77eb16f1-3f90-40d0-871e-9a93f4c8f83c",
        "colab": {
          "base_uri": "https://localhost:8080/",
          "height": 299
        }
      },
      "source": [
        "plt.plot(alpha,room)\n",
        "plt.ylabel(\"coeffecients_of_room\")\n",
        "plt.xlabel(\"alpha\")\n",
        "\n",
        "\n"
      ],
      "execution_count": 0,
      "outputs": [
        {
          "output_type": "execute_result",
          "data": {
            "text/plain": [
              "Text(0.5, 0, 'alpha')"
            ]
          },
          "metadata": {
            "tags": []
          },
          "execution_count": 45
        },
        {
          "output_type": "display_data",
          "data": {
            "image/png": "[encoded data removed]",
            "text/plain": [
              "<Figure size 432x288 with 1 Axes>"
            ]
          },
          "metadata": {
            "tags": []
          }
        }
      ]
    },
    {
      "cell_type": "code",
      "metadata": {
        "id": "xT8JHXLG_ThH",
        "colab_type": "code",
        "outputId": "01f101ec-0479-4d35-e77b-6a680f15b6f0",
        "colab": {
          "base_uri": "https://localhost:8080/",
          "height": 297
        }
      },
      "source": [
        "\n",
        "plt.plot(alpha,residential_zone)\n",
        "plt.ylabel(\"coeffecients_of_residential_zone\")\n",
        "plt.xlabel(\"alpha\")\n",
        "\n"
      ],
      "execution_count": 0,
      "outputs": [
        {
          "output_type": "execute_result",
          "data": {
            "text/plain": [
              "Text(0.5, 0, 'alpha')"
            ]
          },
          "metadata": {
            "tags": []
          },
          "execution_count": 46
        },
        {
          "output_type": "display_data",
          "data": {
            "image/png": "[encoded data removed]",
            "text/plain": [
              "<Figure size 432x288 with 1 Axes>"
            ]
          },
          "metadata": {
            "tags": []
          }
        }
      ]
    },
    {
      "cell_type": "code",
      "metadata": {
        "id": "tgW9eP-t_U6U",
        "colab_type": "code",
        "outputId": "d15044bd-d519-4bfd-d4d6-db36d73e35e2",
        "colab": {
          "base_uri": "https://localhost:8080/",
          "height": 297
        }
      },
      "source": [
        "plt.plot(alpha,highway_access)\n",
        "plt.ylabel(\"coeffecients_of_highway_access\")\n",
        "plt.xlabel(\"alpha\")\n",
        "\n"
      ],
      "execution_count": 0,
      "outputs": [
        {
          "output_type": "execute_result",
          "data": {
            "text/plain": [
              "Text(0.5, 0, 'alpha')"
            ]
          },
          "metadata": {
            "tags": []
          },
          "execution_count": 47
        },
        {
          "output_type": "display_data",
          "data": {
            "image/png": "[encoded data removed]",
            "text/plain": [
              "<Figure size 432x288 with 1 Axes>"
            ]
          },
          "metadata": {
            "tags": []
          }
        }
      ]
    },
    {
      "cell_type": "code",
      "metadata": {
        "id": "hlBWZj07_YSV",
        "colab_type": "code",
        "outputId": "229e8ec3-6e2c-459b-9b12-83d8f8c28ac0",
        "colab": {
          "base_uri": "https://localhost:8080/",
          "height": 297
        }
      },
      "source": [
        "plt.plot(alpha,tax)\n",
        "plt.ylabel(\"coeffecients_of_tax\")\n",
        "plt.xlabel(\"alpha\")"
      ],
      "execution_count": 0,
      "outputs": [
        {
          "output_type": "execute_result",
          "data": {
            "text/plain": [
              "Text(0.5, 0, 'alpha')"
            ]
          },
          "metadata": {
            "tags": []
          },
          "execution_count": 48
        },
        {
          "output_type": "display_data",
          "data": {
            "image/png": "[encoded data removed]",
            "text/plain": [
              "<Figure size 432x288 with 1 Axes>"
            ]
          },
          "metadata": {
            "tags": []
          }
        }
      ]
    },
    {
      "cell_type": "markdown",
      "metadata": {
        "id": "VNWuaRtJBBJI",
        "colab_type": "text"
      },
      "source": [
        "**INFERNCE** :-\n",
        "\n",
        "The common observation from the above 5 plots is that on increasing regularization coeffecients the value of coeffecients are going to zero(however they are not exactly zero , as ridge reduces the magnitude of not so important variables rather than driving them to zero) that is curve is getting smoother and simpler which was supposed to happen because as regularization coeffecients increases , underfitting takes place.\n",
        "\n",
        "As we are not giving freedom to the model to get complex and reduce the error due to very high penalty term in the cost function.\n"
      ]
    },
    {
      "cell_type": "code",
      "metadata": {
        "id": "VRgGBb69n5Nz",
        "colab_type": "code",
        "outputId": "040c98bd-cbbe-43d1-f5b0-b340ed6622d6",
        "colab": {
          "base_uri": "https://localhost:8080/",
          "height": 35
        }
      },
      "source": [
        "yr_pred_test=ridge.predict(xtest)\n",
        "print(mean_squared_error(yr_pred_test,ytest))"
      ],
      "execution_count": 0,
      "outputs": [
        {
          "output_type": "stream",
          "text": [
            "30.68161175255442\n"
          ],
          "name": "stdout"
        }
      ]
    },
    {
      "cell_type": "code",
      "metadata": {
        "id": "q-weJvkdoYTW",
        "colab_type": "code",
        "outputId": "78759a09-b1ad-4d8c-c7fa-c83157b108a9",
        "colab": {
          "base_uri": "https://localhost:8080/",
          "height": 35
        }
      },
      "source": [
        "yr_pred_train=ridge.predict(xtrain)\n",
        "print(mean_squared_error(yr_pred_train,ytrain))\n"
      ],
      "execution_count": 0,
      "outputs": [
        {
          "output_type": "stream",
          "text": [
            "23.13551890992048\n"
          ],
          "name": "stdout"
        }
      ]
    },
    {
      "cell_type": "markdown",
      "metadata": {
        "id": "-Pp6f5AVDHI8",
        "colab_type": "text"
      },
      "source": [
        "# TASK -3 :- Plot the regression coefficient (β ¿ estimates with lasso regression for predictors: room, residential zone, highway access, crime rate and tax as λ varies from 0-200."
      ]
    },
    {
      "cell_type": "code",
      "metadata": {
        "id": "s7-74SGios8w",
        "colab_type": "code",
        "colab": {}
      },
      "source": [
        "\n",
        "room=[]\n",
        "residential_zone=[]\n",
        "highway_access=[]\n",
        "crime_rate=[]\n",
        "tax=[]\n",
        "alpha=[]\n",
        "\n",
        "\n",
        "for i in range(1,200):                  #warning:-coordinate descent does not work well with alpha=0 can give unexpected results IN LASSO\n",
        "  alpha.append(i)                             \n",
        "  lasso=linear_model.Lasso(alpha=i)\n",
        "  lasso.fit(xtrain,ytrain)\n",
        "  crime_rate.append(lasso.coef_[0])\n",
        "  room.append(lasso.coef_[5])\n",
        "  residential_zone.append(lasso.coef_[1])\n",
        "  highway_access.append(lasso.coef_[8])\n",
        "  tax.append(lasso.coef_[9])\n",
        "\n",
        "\n",
        "\n",
        "\n",
        "\n"
      ],
      "execution_count": 0,
      "outputs": []
    },
    {
      "cell_type": "code",
      "metadata": {
        "id": "fmCD5SsmC3Q7",
        "colab_type": "code",
        "outputId": "8090e3a1-5f4d-4a00-8f95-25be84b528d5",
        "colab": {
          "base_uri": "https://localhost:8080/",
          "height": 297
        }
      },
      "source": [
        "plt.plot(alpha,crime_rate)\n",
        "plt.ylabel(\"coeffecients_of_crime rate\")\n",
        "plt.xlabel(\"alpha\")\n",
        "\n"
      ],
      "execution_count": 0,
      "outputs": [
        {
          "output_type": "execute_result",
          "data": {
            "text/plain": [
              "Text(0.5, 0, 'alpha')"
            ]
          },
          "metadata": {
            "tags": []
          },
          "execution_count": 53
        },
        {
          "output_type": "display_data",
          "data": {
            "image/png": "[encoded data removed]",
            "text/plain": [
              "<Figure size 432x288 with 1 Axes>"
            ]
          },
          "metadata": {
            "tags": []
          }
        }
      ]
    },
    {
      "cell_type": "code",
      "metadata": {
        "id": "meu0KUgVe5gt",
        "colab_type": "code",
        "outputId": "e972c0b0-5bf8-4981-bf08-304fdc42cd70",
        "colab": {
          "base_uri": "https://localhost:8080/",
          "height": 297
        }
      },
      "source": [
        "plt.plot(alpha,room)\n",
        "plt.ylabel(\"coeffecients_of_room\")\n",
        "plt.xlabel(\"alpha\")\n",
        "\n"
      ],
      "execution_count": 0,
      "outputs": [
        {
          "output_type": "execute_result",
          "data": {
            "text/plain": [
              "Text(0.5, 0, 'alpha')"
            ]
          },
          "metadata": {
            "tags": []
          },
          "execution_count": 26
        },
        {
          "output_type": "display_data",
          "data": {
            "image/png": "[encoded data removed]",
            "text/plain": [
              "<Figure size 432x288 with 1 Axes>"
            ]
          },
          "metadata": {
            "tags": []
          }
        }
      ]
    },
    {
      "cell_type": "code",
      "metadata": {
        "id": "oYsOSMO3gWRR",
        "colab_type": "code",
        "outputId": "986cf492-f6f9-44af-c4c1-854f0dd19730",
        "colab": {
          "base_uri": "https://localhost:8080/",
          "height": 298
        }
      },
      "source": [
        "plt.plot(alpha,residential_zone)\n",
        "plt.ylabel(\"coeffecients_of_residential_zone\")\n",
        "plt.xlabel(\"alpha\")\n",
        "\n"
      ],
      "execution_count": 0,
      "outputs": [
        {
          "output_type": "execute_result",
          "data": {
            "text/plain": [
              "Text(0.5, 0, 'alpha')"
            ]
          },
          "metadata": {
            "tags": []
          },
          "execution_count": 27
        },
        {
          "output_type": "display_data",
          "data": {
            "image/png": "[encoded data removed]",
            "text/plain": [
              "<Figure size 432x288 with 1 Axes>"
            ]
          },
          "metadata": {
            "tags": []
          }
        }
      ]
    },
    {
      "cell_type": "code",
      "metadata": {
        "id": "q8qZBmYggY4l",
        "colab_type": "code",
        "outputId": "0c6046bf-9ef2-47cd-f1bf-323cf4882b23",
        "colab": {
          "base_uri": "https://localhost:8080/",
          "height": 297
        }
      },
      "source": [
        "plt.plot(alpha,highway_access)\n",
        "plt.ylabel(\"coeffecients_of_highway_access\")\n",
        "plt.xlabel(\"alpha\")\n",
        "\n",
        "\n"
      ],
      "execution_count": 0,
      "outputs": [
        {
          "output_type": "execute_result",
          "data": {
            "text/plain": [
              "Text(0.5, 0, 'alpha')"
            ]
          },
          "metadata": {
            "tags": []
          },
          "execution_count": 51
        },
        {
          "output_type": "display_data",
          "data": {
            "image/png": "[encoded data removed]",
            "text/plain": [
              "<Figure size 432x288 with 1 Axes>"
            ]
          },
          "metadata": {
            "tags": []
          }
        }
      ]
    },
    {
      "cell_type": "code",
      "metadata": {
        "id": "aM61rKTmCWmo",
        "colab_type": "code",
        "outputId": "89b7accf-e645-425c-dd2f-f2313a6f822c",
        "colab": {
          "base_uri": "https://localhost:8080/",
          "height": 297
        }
      },
      "source": [
        "plt.plot(alpha,tax)\n",
        "plt.ylabel(\"coeffecients_of_tax\")\n",
        "plt.xlabel(\"alpha\")"
      ],
      "execution_count": 0,
      "outputs": [
        {
          "output_type": "execute_result",
          "data": {
            "text/plain": [
              "Text(0.5, 0, 'alpha')"
            ]
          },
          "metadata": {
            "tags": []
          },
          "execution_count": 50
        },
        {
          "output_type": "display_data",
          "data": {
            "image/png": "[encoded data removed]",
            "text/plain": [
              "<Figure size 432x288 with 1 Axes>"
            ]
          },
          "metadata": {
            "tags": []
          }
        }
      ]
    },
    {
      "cell_type": "markdown",
      "metadata": {
        "id": "y3RgIO2sEWM7",
        "colab_type": "text"
      },
      "source": [
        "**INFERENCE**\n",
        "\n",
        "\n",
        "(1) Lasso tend to give sparse weights (most zeros), because the l1 regularization cares equally about driving down big weights->small weights, or driving small weights->0. If we have a lot of predictors (features), and you suspect that not all of them are that important, Lasso is really good idea to start with.\n",
        "\n",
        "(2) Ridge tends to give small but well distributed weights, because the l2 regularization cares more about driving big weight->small weights, instead of driving small weights->0. If you only have few predictors, and you are confident that all of them should be really relevant for predictions, we should try Ridge as a good regularized linear regression method.\n",
        "\n",
        "\n",
        "And as the weights of these features(the 5 which are given ) are going to zero on increasing regularization coeffecients , this is a clear indication of model getting simpler and simpler(underitting)"
      ]
    },
    {
      "cell_type": "code",
      "metadata": {
        "id": "7JN7tjlVFfzd",
        "colab_type": "code",
        "colab": {}
      },
      "source": [
        ""
      ],
      "execution_count": 0,
      "outputs": []
    },
    {
      "cell_type": "markdown",
      "metadata": {
        "id": "U3NVJWCjFMuh",
        "colab_type": "text"
      },
      "source": [
        "# TASK -4 :-For all the above models, plot the residuals obtained for the training data. You may choose any three values of λ to plot the residuals for ridge and lasso regression."
      ]
    },
    {
      "cell_type": "code",
      "metadata": {
        "id": "YYEV8Jt-gbB0",
        "colab_type": "code",
        "outputId": "2a245888-1fe2-4042-ea62-811d93b6341b",
        "colab": {
          "base_uri": "https://localhost:8080/",
          "height": 313
        }
      },
      "source": [
        "#task4\n",
        "\n",
        "\n",
        "ypred_train=ols.predict(xtrain)\n",
        "\n",
        "residuals=[]\n",
        "residuals=ytrain-ypred_train\n",
        "\n",
        "index_traindata=[]\n",
        "for i in range(1,355):\n",
        "  index_traindata.append(i)\n",
        "\n",
        "residuals\n",
        "plt.scatter(index_traindata,residuals)\n",
        "plt.ylabel(\"Residuals\")\n",
        "plt.xlabel(\"Training Data\")\n",
        "plt.title(\"Residual plot for OLS Regressor\")"
      ],
      "execution_count": 0,
      "outputs": [
        {
          "output_type": "execute_result",
          "data": {
            "text/plain": [
              "Text(0.5, 1.0, 'Residual plot for OLS Regressor')"
            ]
          },
          "metadata": {
            "tags": []
          },
          "execution_count": 29
        },
        {
          "output_type": "display_data",
          "data": {
            "image/png": "[encoded data removed]",
            "text/plain": [
              "<Figure size 432x288 with 1 Axes>"
            ]
          },
          "metadata": {
            "tags": []
          }
        }
      ]
    },
    {
      "cell_type": "code",
      "metadata": {
        "id": "ZCS8GLKxmAT0",
        "colab_type": "code",
        "outputId": "fea26b3f-1c15-4e45-a34a-7eaccea7a8d4",
        "colab": {
          "base_uri": "https://localhost:8080/",
          "height": 313
        }
      },
      "source": [
        "ridge=linear_model.Ridge(alpha=50)\n",
        "ridge.fit(xtrain,ytrain)\n",
        "ypred_train=ridge.predict(xtrain)\n",
        "\n",
        "residuals=[]\n",
        "residuals=ytrain-ypred_train\n",
        "\n",
        "index_traindata=[]\n",
        "for i in range(1,355):\n",
        "  index_traindata.append(i)\n",
        "\n",
        "\n",
        "plt.scatter(index_traindata,residuals)\n",
        "plt.ylabel(\"Residuals\")\n",
        "plt.xlabel(\"Training Data\")\n",
        "plt.title(\"Residual plot for ridge Regressor alpha=50\")\n"
      ],
      "execution_count": 0,
      "outputs": [
        {
          "output_type": "execute_result",
          "data": {
            "text/plain": [
              "Text(0.5, 1.0, 'Residual plot for ridge Regressor alpha=50')"
            ]
          },
          "metadata": {
            "tags": []
          },
          "execution_count": 30
        },
        {
          "output_type": "display_data",
          "data": {
            "image/png": "[encoded data removed]",
            "text/plain": [
              "<Figure size 432x288 with 1 Axes>"
            ]
          },
          "metadata": {
            "tags": []
          }
        }
      ]
    },
    {
      "cell_type": "code",
      "metadata": {
        "id": "PABkuXfCnPZG",
        "colab_type": "code",
        "outputId": "506ee834-8368-49cc-e031-31d49d44fea9",
        "colab": {
          "base_uri": "https://localhost:8080/",
          "height": 313
        }
      },
      "source": [
        "ridge=linear_model.Ridge(alpha=100)\n",
        "ridge.fit(xtrain,ytrain)\n",
        "ypred_train=ridge.predict(xtrain)\n",
        "\n",
        "residuals=[]\n",
        "residuals=ytrain-ypred_train\n",
        "\n",
        "index_traindata=[]\n",
        "for i in range(1,355):\n",
        "  index_traindata.append(i)\n",
        "\n",
        "\n",
        "plt.scatter(index_traindata,residuals)\n",
        "plt.ylabel(\"Residuals\")\n",
        "plt.xlabel(\"Training Data\")\n",
        "plt.title(\"Residual plot for ridge Regressor alpha=100\")\n"
      ],
      "execution_count": 0,
      "outputs": [
        {
          "output_type": "execute_result",
          "data": {
            "text/plain": [
              "Text(0.5, 1.0, 'Residual plot for ridge Regressor alpha=100')"
            ]
          },
          "metadata": {
            "tags": []
          },
          "execution_count": 31
        },
        {
          "output_type": "display_data",
          "data": {
            "image/png": "[encoded data removed]",
            "text/plain": [
              "<Figure size 432x288 with 1 Axes>"
            ]
          },
          "metadata": {
            "tags": []
          }
        }
      ]
    },
    {
      "cell_type": "code",
      "metadata": {
        "id": "iVIyBrItnh6c",
        "colab_type": "code",
        "outputId": "c5eb92b5-a946-46d2-995d-8889710b066f",
        "colab": {
          "base_uri": "https://localhost:8080/",
          "height": 313
        }
      },
      "source": [
        "ridge=linear_model.Ridge(alpha=200)\n",
        "ridge.fit(xtrain,ytrain)\n",
        "ypred_train=ridge.predict(xtrain)\n",
        "\n",
        "residuals=[]\n",
        "residuals=ytrain-ypred_train\n",
        "\n",
        "index_traindata=[]\n",
        "for i in range(1,355):\n",
        "  index_traindata.append(i)\n",
        "\n",
        "\n",
        "plt.scatter(index_traindata,residuals)\n",
        "plt.ylabel(\"Residuals\")\n",
        "plt.xlabel(\"Training Data\")\n",
        "plt.title(\"Residual plot for ridge Regressor alpha=200\")\n"
      ],
      "execution_count": 0,
      "outputs": [
        {
          "output_type": "execute_result",
          "data": {
            "text/plain": [
              "Text(0.5, 1.0, 'Residual plot for ridge Regressor alpha=200')"
            ]
          },
          "metadata": {
            "tags": []
          },
          "execution_count": 32
        },
        {
          "output_type": "display_data",
          "data": {
            "image/png": "[encoded data removed]",
            "text/plain": [
              "<Figure size 432x288 with 1 Axes>"
            ]
          },
          "metadata": {
            "tags": []
          }
        }
      ]
    },
    {
      "cell_type": "code",
      "metadata": {
        "id": "VoUkIw-wnoMq",
        "colab_type": "code",
        "outputId": "7f010335-e6ef-4ba4-cba6-c273fee98f6a",
        "colab": {
          "base_uri": "https://localhost:8080/",
          "height": 313
        }
      },
      "source": [
        "\n",
        "lasso=linear_model.Lasso(alpha=50)\n",
        "lasso.fit(xtrain,ytrain)\n",
        "ypred_train=lasso.predict(xtrain)\n",
        "\n",
        "residuals=[]\n",
        "residuals=ytrain-ypred_train\n",
        "\n",
        "index_traindata=[]\n",
        "for i in range(1,355):\n",
        "  index_traindata.append(i)\n",
        "\n",
        "\n",
        "plt.scatter(index_traindata,residuals)\n",
        "plt.ylabel(\"Residuals\")\n",
        "plt.xlabel(\"Training Data\")\n",
        "plt.title(\"Residual plot for lasso Regressor alpha=50\")"
      ],
      "execution_count": 0,
      "outputs": [
        {
          "output_type": "execute_result",
          "data": {
            "text/plain": [
              "Text(0.5, 1.0, 'Residual plot for lasso Regressor alpha=50')"
            ]
          },
          "metadata": {
            "tags": []
          },
          "execution_count": 33
        },
        {
          "output_type": "display_data",
          "data": {
            "image/png": "[encoded data removed]",
            "text/plain": [
              "<Figure size 432x288 with 1 Axes>"
            ]
          },
          "metadata": {
            "tags": []
          }
        }
      ]
    },
    {
      "cell_type": "code",
      "metadata": {
        "id": "qJBPBCiGn2-W",
        "colab_type": "code",
        "outputId": "cd22d0f9-c310-4766-bd7a-55a89726f9fa",
        "colab": {
          "base_uri": "https://localhost:8080/",
          "height": 313
        }
      },
      "source": [
        "\n",
        "lasso=linear_model.Lasso(alpha=100)\n",
        "lasso.fit(xtrain,ytrain)\n",
        "ypred_train=lasso.predict(xtrain)\n",
        "\n",
        "residuals=[]\n",
        "residuals=ytrain-ypred_train\n",
        "\n",
        "index_traindata=[]\n",
        "for i in range(1,355):\n",
        "  index_traindata.append(i)\n",
        "\n",
        "\n",
        "plt.scatter(index_traindata,residuals)\n",
        "plt.ylabel(\"Residuals\")\n",
        "plt.xlabel(\"Training Data\")\n",
        "plt.title(\"Residual plot for lasso Regressor alpha=100\")"
      ],
      "execution_count": 0,
      "outputs": [
        {
          "output_type": "execute_result",
          "data": {
            "text/plain": [
              "Text(0.5, 1.0, 'Residual plot for lasso Regressor alpha=100')"
            ]
          },
          "metadata": {
            "tags": []
          },
          "execution_count": 34
        },
        {
          "output_type": "display_data",
          "data": {
            "image/png": "[encoded data removed]",
            "text/plain": [
              "<Figure size 432x288 with 1 Axes>"
            ]
          },
          "metadata": {
            "tags": []
          }
        }
      ]
    },
    {
      "cell_type": "code",
      "metadata": {
        "id": "6yRgGEd6n7p5",
        "colab_type": "code",
        "outputId": "f0f084d4-573f-46bd-dd6a-519ca46487ae",
        "colab": {
          "base_uri": "https://localhost:8080/",
          "height": 313
        }
      },
      "source": [
        "\n",
        "lasso=linear_model.Lasso(alpha=200)\n",
        "lasso.fit(xtrain,ytrain)\n",
        "ypred_train=lasso.predict(xtrain)\n",
        "\n",
        "residuals=[]\n",
        "residuals=ytrain-ypred_train\n",
        "\n",
        "index_traindata=[]\n",
        "for i in range(1,355):\n",
        "  index_traindata.append(i)\n",
        "\n",
        "\n",
        "plt.scatter(index_traindata,residuals)\n",
        "plt.ylabel(\"Residuals\")\n",
        "plt.xlabel(\"Training Data\")\n",
        "plt.title(\"Residual plot for lasso Regressor alpha=200\")"
      ],
      "execution_count": 0,
      "outputs": [
        {
          "output_type": "execute_result",
          "data": {
            "text/plain": [
              "Text(0.5, 1.0, 'Residual plot for lasso Regressor alpha=200')"
            ]
          },
          "metadata": {
            "tags": []
          },
          "execution_count": 35
        },
        {
          "output_type": "display_data",
          "data": {
            "image/png": "[encoded data removed]",
            "text/plain": [
              "<Figure size 432x288 with 1 Axes>"
            ]
          },
          "metadata": {
            "tags": []
          }
        }
      ]
    },
    {
      "cell_type": "markdown",
      "metadata": {
        "id": "EfuadKkeOrR8",
        "colab_type": "text"
      },
      "source": [
        "**INFERENCE**\n",
        "\n",
        "**As The value of regularization coeffecient is increasing we can see more outliers in the residual plot which is a clear indication of underfitting.**\n",
        "\n",
        "\n",
        "It proved as a good way of checking whether a regression, simple or multiple, has achieved its goal to explain as much variation as possible in a dependent variable while respecting the underlying assumption, is to check the residuals of a regression. In other words having a detailed look at what is left over after explaining the variation in the dependent variable using independent variable(s), i.e. the unexplained variation.\n",
        "\n",
        "Ideally all residuals should be small and unstructured; this then would mean that the regression analysis has been successful in explaining the essential part of the variation of the dependent variable. If however residuals exhibit a structure or present any special aspect that does not seem random, it sheds a \"bad light\" on the regression. Most problems that were initially overlooked when diagnosing the variables in the model or were impossible to see, will, turn up in the residuals, for instance:\n",
        "\n",
        "Outliers that have been overlooked, will show up  as, often, very big residuals.\n",
        "If the relationship is not linear, some structure will appear in the residuals\n",
        "Non-constant variation of the residuals (heteroscedasticity)\n",
        "If groups of observations were overlooked, they'll show up in the residuals\n",
        "etc.\n",
        "\n",
        "In one word, the analysis of residuals acted as a very  powerful diagnostic tool, to help assess, whether some of the underlying assumptions of regression have been violated."
      ]
    },
    {
      "cell_type": "markdown",
      "metadata": {
        "id": "0-YSj0h7WCsY",
        "colab_type": "text"
      },
      "source": [
        "# Task -5 :-  Tabulate the mean training and test errors for each of the above models. Based on the results observed, summarize your conclusions and learnings from this exercise."
      ]
    },
    {
      "cell_type": "code",
      "metadata": {
        "id": "QcPsPUIYn9Ze",
        "colab_type": "code",
        "outputId": "2a929525-6a07-467c-f51a-2d51e96afb1d",
        "colab": {
          "base_uri": "https://localhost:8080/",
          "height": 269
        }
      },
      "source": [
        "#task 5     once variance of each feature data is almost same or say that data is normalized , then weight of each feature will tell you its importance in predicting label\n",
        "\n",
        "ridge=linear_model.Ridge(alpha=0.001)\n",
        "ridge1=linear_model.Ridge(alpha=0.01)\n",
        "ridge2=linear_model.Ridge(alpha=0.1)\n",
        "ridge.fit(xtrain,ytrain)\n",
        "ridge1.fit(xtrain,ytrain)\n",
        "ridge2.fit(xtrain,ytrain)\n",
        "lasso=linear_model.Lasso(alpha=0.001)\n",
        "lasso1=linear_model.Lasso(alpha=0.01)\n",
        "lasso2=linear_model.Lasso(alpha=0.1)\n",
        "\n",
        "\n",
        "lasso.fit(xtrain,ytrain)\n",
        "lasso1.fit(xtrain,ytrain)\n",
        "lasso2.fit(xtrain,ytrain)\n",
        "\n",
        "df=pd.DataFrame({'Training error' : [mean_squared_error(ytrain,ols.predict(xtrain)),mean_squared_error(ytrain,ridge.predict(xtrain)),mean_squared_error(ytrain,ridge1.predict(xtrain)),mean_squared_error(ytrain,ridge2.predict(xtrain)),mean_squared_error(ytrain,lasso.predict(xtrain)),mean_squared_error(ytrain,lasso1.predict(xtrain)),mean_squared_error(ytrain,lasso2.predict(xtrain))],\n",
        "                      'Test_Error' :[mean_squared_error(ytest,ols.predict(xtest)),mean_squared_error(ytest,ridge.predict(xtest)),mean_squared_error(ytest,ridge1.predict(xtest)),mean_squared_error(ytest,ridge2.predict(xtest)),mean_squared_error(ytest,lasso.predict(xtest)),mean_squared_error(ytest,lasso1.predict(xtest)),mean_squared_error(ytest,lasso2.predict(xtest))]},index=['OLS','Ridge(alpha=0.001)','Ridge(alpha=0.01)','Ridge(alpha=0.1)','Lasso(alpha=0.001)','Lasso(alpha=0.01)','Lasso(alpha=0.1)'])\n",
        "\n",
        "\n",
        "df\n",
        "\n"
      ],
      "execution_count": 0,
      "outputs": [
        {
          "output_type": "execute_result",
          "data": {
            "text/html": [
              "<div>\n",
              "<style scoped>\n",
              "    .dataframe tbody tr th:only-of-type {\n",
              "        vertical-align: middle;\n",
              "    }\n",
              "\n",
              "    .dataframe tbody tr th {\n",
              "        vertical-align: top;\n",
              "    }\n",
              "\n",
              "    .dataframe thead th {\n",
              "        text-align: right;\n",
              "    }\n",
              "</style>\n",
              "<table border=\"1\" class=\"dataframe\">\n",
              "  <thead>\n",
              "    <tr style=\"text-align: right;\">\n",
              "      <th></th>\n",
              "      <th>Training error</th>\n",
              "      <th>Test_Error</th>\n",
              "    </tr>\n",
              "  </thead>\n",
              "  <tbody>\n",
              "    <tr>\n",
              "      <th>OLS</th>\n",
              "      <td>19.958220</td>\n",
              "      <td>27.195966</td>\n",
              "    </tr>\n",
              "    <tr>\n",
              "      <th>Ridge(alpha=0.001)</th>\n",
              "      <td>19.958221</td>\n",
              "      <td>27.196652</td>\n",
              "    </tr>\n",
              "    <tr>\n",
              "      <th>Ridge(alpha=0.01)</th>\n",
              "      <td>19.958290</td>\n",
              "      <td>27.202844</td>\n",
              "    </tr>\n",
              "    <tr>\n",
              "      <th>Ridge(alpha=0.1)</th>\n",
              "      <td>19.964204</td>\n",
              "      <td>27.265601</td>\n",
              "    </tr>\n",
              "    <tr>\n",
              "      <th>Lasso(alpha=0.001)</th>\n",
              "      <td>19.958591</td>\n",
              "      <td>27.211607</td>\n",
              "    </tr>\n",
              "    <tr>\n",
              "      <th>Lasso(alpha=0.01)</th>\n",
              "      <td>19.994758</td>\n",
              "      <td>27.386681</td>\n",
              "    </tr>\n",
              "    <tr>\n",
              "      <th>Lasso(alpha=0.1)</th>\n",
              "      <td>20.926031</td>\n",
              "      <td>28.875759</td>\n",
              "    </tr>\n",
              "  </tbody>\n",
              "</table>\n",
              "</div>"
            ],
            "text/plain": [
              "                    Training error  Test_Error\n",
              "OLS                      19.958220   27.195966\n",
              "Ridge(alpha=0.001)       19.958221   27.196652\n",
              "Ridge(alpha=0.01)        19.958290   27.202844\n",
              "Ridge(alpha=0.1)         19.964204   27.265601\n",
              "Lasso(alpha=0.001)       19.958591   27.211607\n",
              "Lasso(alpha=0.01)        19.994758   27.386681\n",
              "Lasso(alpha=0.1)         20.926031   28.875759"
            ]
          },
          "metadata": {
            "tags": []
          },
          "execution_count": 57
        }
      ]
    },
    {
      "cell_type": "markdown",
      "metadata": {
        "id": "6q8lQP1YVNOU",
        "colab_type": "text"
      },
      "source": [
        "# Plot for inference"
      ]
    },
    {
      "cell_type": "code",
      "metadata": {
        "id": "JDCCEZvIydke",
        "colab_type": "code",
        "outputId": "ca85116f-9087-4752-e539-3d91a3ca2dcc",
        "colab": {
          "base_uri": "https://localhost:8080/",
          "height": 284
        }
      },
      "source": [
        "#finding alpha for which minimum errors are there      \n",
        "#                                                     why no bell for lasso(convex)/ridge    maybe no overfitting?\n",
        "\n",
        "test_error=[]\n",
        "train_error=[]\n",
        "alpha=[]\n",
        "for i in np.arange(200):\n",
        "  alpha.append(i)\n",
        "  Ridge=linear_model.Ridge(alpha=i)\n",
        "  Ridge.fit(xtrain,ytrain)\n",
        "  test_error.append(mean_squared_error(ytest,Ridge.predict(xtest))**0.5)\n",
        "  train_error.append(mean_squared_error(ytrain,Ridge.predict(xtrain))**.5)\n",
        "  \n",
        "\n",
        "\n",
        "plt.plot(alpha,test_error)\n",
        "#plt.plot(alpha,train_error)"
      ],
      "execution_count": 0,
      "outputs": [
        {
          "output_type": "execute_result",
          "data": {
            "text/plain": [
              "[<matplotlib.lines.Line2D at 0x7f8adc5af588>]"
            ]
          },
          "metadata": {
            "tags": []
          },
          "execution_count": 36
        },
        {
          "output_type": "display_data",
          "data": {
            "image/png": "[encoded data removed]",
            "text/plain": [
              "<Figure size 432x288 with 1 Axes>"
            ]
          },
          "metadata": {
            "tags": []
          }
        }
      ]
    },
    {
      "cell_type": "markdown",
      "metadata": {
        "id": "0-BmmJOiTHN-",
        "colab_type": "text"
      },
      "source": [
        "**Inference And Learning**\n",
        "\n",
        "I was expecting a convex curve (between test errors and different values of alpha(regularization coeffecient ) as if we would penalize less i.e keep alpha value to be less than the model has the freedom to overfit on training data and thus it can overfit(high test errors) , whereas if we increase the value of alpha ie penalize too much then we are not allowing model to learn all the underlying patterns in the data by keeping a strict bound on parameters.\n",
        "Thus a region of underfitting should come(high test errors).\n",
        "\n",
        "Between these two regions of high test errors we should find a optimal value of regularization coeffecient where test error is minimum .\n",
        "\n",
        "\n",
        "BUT when this curve was plotted for ridge Regressor , I didnt got the left part which would have represented Overfitting . This is leading me to believe that ols regressor didnt overfit that much on training data and thus lasso and ridge didnt hepled that much in reducing test error as it is significant from the above dataframe.\n",
        "\n",
        "Both lasso and ridge are good ways to prevent overitting whereas Lasso regression has one plus point that it not only helps in reducing over-fitting but it can help us\n",
        "in feature selection also.\n",
        "\n",
        "\n",
        "\n",
        "\n"
      ]
    }
  ]
}